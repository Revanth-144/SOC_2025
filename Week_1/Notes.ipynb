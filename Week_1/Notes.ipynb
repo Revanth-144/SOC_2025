{
 "cells": [
  {
   "cell_type": "code",
   "execution_count": null,
   "id": "010dc147",
   "metadata": {},
   "outputs": [],
   "source": [
    "import numpy as np\n",
    "\n",
    "np.std()"
   ]
  },
  {
   "cell_type": "markdown",
   "id": "191b529b",
   "metadata": {},
   "source": [
    "impot"
   ]
  }
 ],
 "metadata": {
  "kernelspec": {
   "display_name": "base",
   "language": "python",
   "name": "python3"
  },
  "language_info": {
   "name": "python",
   "version": "3.12.7"
  }
 },
 "nbformat": 4,
 "nbformat_minor": 5
}
